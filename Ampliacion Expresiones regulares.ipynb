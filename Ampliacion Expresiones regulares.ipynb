{
 "cells": [
  {
   "cell_type": "code",
   "execution_count": 2,
   "metadata": {},
   "outputs": [
    {
     "data": {
      "text/plain": [
       "['amigos', 'amigas']"
      ]
     },
     "execution_count": 2,
     "metadata": {},
     "output_type": "execute_result"
    }
   ],
   "source": [
    "import re\n",
    "saludos = 'Hola padres y madres. Hola amigos y amigas'\n",
    "\n",
    "expresion = r'amig[oa]s'    # define las cadenas 'amigos' y 'amigas'\n",
    "patron = re.compile(expresion)      # compilamos la ER\n",
    "patron.findall(saludos)"
   ]
  },
  {
   "cell_type": "code",
   "execution_count": 3,
   "metadata": {},
   "outputs": [
    {
     "data": {
      "text/plain": [
       "['padres', 'madres']"
      ]
     },
     "execution_count": 3,
     "metadata": {},
     "output_type": "execute_result"
    }
   ],
   "source": [
    "expresion = r'padres|madres'   \n",
    "patron = re.compile(expresion)      # compilamos la ER\n",
    "patron.findall(saludos)"
   ]
  },
  {
   "cell_type": "code",
   "execution_count": 4,
   "metadata": {},
   "outputs": [
    {
     "data": {
      "text/plain": [
       "['amigo', 'amiga']"
      ]
     },
     "execution_count": 4,
     "metadata": {},
     "output_type": "execute_result"
    }
   ],
   "source": [
    "expresion = r'amig.'   \n",
    "patron = re.compile(expresion)      # compilamos la ER\n",
    "patron.findall(saludos)"
   ]
  },
  {
   "cell_type": "code",
   "execution_count": 8,
   "metadata": {},
   "outputs": [
    {
     "data": {
      "text/plain": [
       "['yo@gmail.com']"
      ]
     },
     "execution_count": 8,
     "metadata": {},
     "output_type": "execute_result"
    }
   ],
   "source": [
    "saludos = 'yo@gmail.com'\n",
    "\n",
    "expresion = r'\\w+@\\w+.com'    \n",
    "patron = re.compile(expresion)      # compilamos la ER\n",
    "patron.findall(saludos)"
   ]
  },
  {
   "cell_type": "code",
   "execution_count": 9,
   "metadata": {},
   "outputs": [
    {
     "data": {
      "text/plain": [
       "['234 asdf']"
      ]
     },
     "execution_count": 9,
     "metadata": {},
     "output_type": "execute_result"
    }
   ],
   "source": [
    "saludos = 'hola 234 asdf'\n",
    "\n",
    "expresion = r'\\d+\\s\\w+'    \n",
    "patron = re.compile(expresion)      # compilamos la ER\n",
    "patron.findall(saludos)"
   ]
  },
  {
   "cell_type": "code",
   "execution_count": 10,
   "metadata": {},
   "outputs": [
    {
     "data": {
      "text/plain": [
       "['234-as']"
      ]
     },
     "execution_count": 10,
     "metadata": {},
     "output_type": "execute_result"
    }
   ],
   "source": [
    "saludos = 'hola 234-asdf'\n",
    "\n",
    "expresion = r'\\d\\d\\d-\\w\\w'    \n",
    "patron = re.compile(expresion)      # compilamos la ER\n",
    "patron.findall(saludos)"
   ]
  },
  {
   "cell_type": "code",
   "execution_count": 11,
   "metadata": {},
   "outputs": [
    {
     "data": {
      "text/plain": [
       "['hola1', 'hola2', 'hola3']"
      ]
     },
     "execution_count": 11,
     "metadata": {},
     "output_type": "execute_result"
    }
   ],
   "source": [
    "saludos = 'hola1 hola2 hola3'\n",
    "\n",
    "expresion = r'hola\\d'    \n",
    "patron = re.compile(expresion)      # compilamos la ER\n",
    "patron.findall(saludos)"
   ]
  },
  {
   "cell_type": "code",
   "execution_count": 12,
   "metadata": {},
   "outputs": [
    {
     "data": {
      "text/plain": [
       "['hola1']"
      ]
     },
     "execution_count": 12,
     "metadata": {},
     "output_type": "execute_result"
    }
   ],
   "source": [
    "saludos = 'hola1 hola2 hola3'\n",
    "\n",
    "expresion = r'^hola\\d'    \n",
    "patron = re.compile(expresion)      # compilamos la ER\n",
    "patron.findall(saludos)"
   ]
  },
  {
   "cell_type": "code",
   "execution_count": 13,
   "metadata": {},
   "outputs": [
    {
     "data": {
      "text/plain": [
       "['hola3']"
      ]
     },
     "execution_count": 13,
     "metadata": {},
     "output_type": "execute_result"
    }
   ],
   "source": [
    "saludos = 'hola1 hola2 hola3'\n",
    "\n",
    "expresion = r'hola\\d$'    \n",
    "patron = re.compile(expresion)      # compilamos la ER\n",
    "patron.findall(saludos)"
   ]
  },
  {
   "cell_type": "code",
   "execution_count": 15,
   "metadata": {},
   "outputs": [
    {
     "data": {
      "text/plain": [
       "['1', '2', '23234', '3']"
      ]
     },
     "execution_count": 15,
     "metadata": {},
     "output_type": "execute_result"
    }
   ],
   "source": [
    "saludos = 'hola1 hola2 asdf 23234 hola3'\n",
    "\n",
    "expresion = r'\\d+'    \n",
    "patron = re.compile(expresion)      # compilamos la ER\n",
    "patron.findall(saludos)"
   ]
  },
  {
   "cell_type": "code",
   "execution_count": 16,
   "metadata": {},
   "outputs": [
    {
     "data": {
      "text/plain": [
       "['hola', ' hola', ' asdf ', ' hola']"
      ]
     },
     "execution_count": 16,
     "metadata": {},
     "output_type": "execute_result"
    }
   ],
   "source": [
    "saludos = 'hola1 hola2 asdf 23234 hola3'\n",
    "\n",
    "expresion = r'\\D+'    \n",
    "patron = re.compile(expresion)      # compilamos la ER\n",
    "patron.findall(saludos)"
   ]
  },
  {
   "cell_type": "code",
   "execution_count": 18,
   "metadata": {},
   "outputs": [
    {
     "data": {
      "text/plain": [
       "['la', 'la', 'la', 'la', 'la']"
      ]
     },
     "execution_count": 18,
     "metadata": {},
     "output_type": "execute_result"
    }
   ],
   "source": [
    "saludos = 'hola1 hola2 la ala asdf 23234 hola3'\n",
    "\n",
    "expresion = r'la'    \n",
    "patron = re.compile(expresion)      # compilamos la ER\n",
    "patron.findall(saludos)"
   ]
  },
  {
   "cell_type": "code",
   "execution_count": 19,
   "metadata": {},
   "outputs": [
    {
     "data": {
      "text/plain": [
       "['la']"
      ]
     },
     "execution_count": 19,
     "metadata": {},
     "output_type": "execute_result"
    }
   ],
   "source": [
    "saludos = 'hola1 hola2 la ala asdf 23234 hola3'\n",
    "\n",
    "expresion = r'\\bla'    \n",
    "patron = re.compile(expresion)      # compilamos la ER\n",
    "patron.findall(saludos)"
   ]
  },
  {
   "cell_type": "code",
   "execution_count": 23,
   "metadata": {},
   "outputs": [
    {
     "data": {
      "text/plain": [
       "'hola1 hola2 LA ala asdf 23234 hola3'"
      ]
     },
     "execution_count": 23,
     "metadata": {},
     "output_type": "execute_result"
    }
   ],
   "source": [
    "saludos = 'hola1 hola2 la ala asdf 23234 hola3'\n",
    "\n",
    "expresion = r'\\bla'    \n",
    "patron = re.compile(expresion)      # compilamos la ER\n",
    "patron.sub('LA', saludos)\n"
   ]
  },
  {
   "cell_type": "code",
   "execution_count": 25,
   "metadata": {},
   "outputs": [
    {
     "data": {
      "text/plain": [
       "'Estimado Arnold. Amigo Arnold'"
      ]
     },
     "execution_count": 25,
     "metadata": {},
     "output_type": "execute_result"
    }
   ],
   "source": [
    "saludos = 'Estimado XXX. Amigo XXX'\n",
    "\n",
    "expresion = r'XXX'    \n",
    "patron = re.compile(expresion)      # compilamos la ER\n",
    "patron.sub('Arnold', saludos)"
   ]
  },
  {
   "cell_type": "code",
   "execution_count": null,
   "metadata": {},
   "outputs": [],
   "source": []
  }
 ],
 "metadata": {
  "kernelspec": {
   "display_name": "Python 3",
   "language": "python",
   "name": "python3"
  },
  "language_info": {
   "codemirror_mode": {
    "name": "ipython",
    "version": 3
   },
   "file_extension": ".py",
   "mimetype": "text/x-python",
   "name": "python",
   "nbconvert_exporter": "python",
   "pygments_lexer": "ipython3",
   "version": "3.7.1"
  }
 },
 "nbformat": 4,
 "nbformat_minor": 2
}
