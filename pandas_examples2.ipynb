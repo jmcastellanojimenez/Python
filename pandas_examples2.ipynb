{
 "cells": [
  {
   "cell_type": "markdown",
   "metadata": {},
   "source": [
    "## PR1"
   ]
  },
  {
   "cell_type": "markdown",
   "metadata": {},
   "source": [
    "1. Crear un DataFrame de dos columnas llamado 'mig_1'. \n",
    "\n",
    "    - La primera columna son los nombres de los __paises__ de la UE contenidos en el fichero [paises.txt](datos/paises.txt). La columna se llama 'Paises'.\n",
    "\n",
    "    - Los datos de la segunda columna son los datos de __migración neta__  de la última década de los paises anteriores. La columna se llama 'Net.Mig' Estos datos están contenidos en el fichero [datos_mig.txt](datos/datos_mig.txt).\n",
    "\n",
    "2. Crear un DataFrame con los datos de los ficheros anteriores llamado 'mig_2'.  Ha de tener las siguientes características:\n",
    "\n",
    "    - El índice está constituído por los paises. \n",
    "    - La única columna se llama 'Net.Mig'.\n",
    "    \n",
    "3. Añade una nueva columna al DataFrame 'mig_2' llamada 'Id'. El valor de la columna es la inicial del pais en el índice."
   ]
  },
  {
   "cell_type": "code",
   "execution_count": 54,
   "metadata": {},
   "outputs": [
    {
     "data": {
      "text/html": [
       "<div>\n",
       "<style scoped>\n",
       "    .dataframe tbody tr th:only-of-type {\n",
       "        vertical-align: middle;\n",
       "    }\n",
       "\n",
       "    .dataframe tbody tr th {\n",
       "        vertical-align: top;\n",
       "    }\n",
       "\n",
       "    .dataframe thead th {\n",
       "        text-align: right;\n",
       "    }\n",
       "</style>\n",
       "<table border=\"1\" class=\"dataframe\">\n",
       "  <thead>\n",
       "    <tr style=\"text-align: right;\">\n",
       "      <th></th>\n",
       "      <th>Net.Mig</th>\n",
       "    </tr>\n",
       "    <tr>\n",
       "      <th>Paises</th>\n",
       "      <th></th>\n",
       "    </tr>\n",
       "  </thead>\n",
       "  <tbody>\n",
       "    <tr>\n",
       "      <th>Hungary</th>\n",
       "      <td>NaN</td>\n",
       "    </tr>\n",
       "    <tr>\n",
       "      <th>Poland</th>\n",
       "      <td>NaN</td>\n",
       "    </tr>\n",
       "    <tr>\n",
       "      <th>Czech Republic</th>\n",
       "      <td>NaN</td>\n",
       "    </tr>\n",
       "    <tr>\n",
       "      <th>Germany</th>\n",
       "      <td>NaN</td>\n",
       "    </tr>\n",
       "    <tr>\n",
       "      <th>Slovak Republic</th>\n",
       "      <td>NaN</td>\n",
       "    </tr>\n",
       "    <tr>\n",
       "      <th>Japan</th>\n",
       "      <td>NaN</td>\n",
       "    </tr>\n",
       "    <tr>\n",
       "      <th>Finland</th>\n",
       "      <td>NaN</td>\n",
       "    </tr>\n",
       "    <tr>\n",
       "      <th>Sweden</th>\n",
       "      <td>NaN</td>\n",
       "    </tr>\n",
       "    <tr>\n",
       "      <th>Denmark</th>\n",
       "      <td>NaN</td>\n",
       "    </tr>\n",
       "    <tr>\n",
       "      <th>Austria</th>\n",
       "      <td>NaN</td>\n",
       "    </tr>\n",
       "    <tr>\n",
       "      <th>United Kingdom</th>\n",
       "      <td>NaN</td>\n",
       "    </tr>\n",
       "    <tr>\n",
       "      <th>Greece</th>\n",
       "      <td>NaN</td>\n",
       "    </tr>\n",
       "    <tr>\n",
       "      <th>Italy</th>\n",
       "      <td>NaN</td>\n",
       "    </tr>\n",
       "    <tr>\n",
       "      <th>Belgium</th>\n",
       "      <td>NaN</td>\n",
       "    </tr>\n",
       "    <tr>\n",
       "      <th>Portugal</th>\n",
       "      <td>NaN</td>\n",
       "    </tr>\n",
       "    <tr>\n",
       "      <th>France</th>\n",
       "      <td>NaN</td>\n",
       "    </tr>\n",
       "    <tr>\n",
       "      <th>Switzerland</th>\n",
       "      <td>NaN</td>\n",
       "    </tr>\n",
       "    <tr>\n",
       "      <th>Norway</th>\n",
       "      <td>NaN</td>\n",
       "    </tr>\n",
       "    <tr>\n",
       "      <th>Netherlands</th>\n",
       "      <td>NaN</td>\n",
       "    </tr>\n",
       "    <tr>\n",
       "      <th>Canada</th>\n",
       "      <td>NaN</td>\n",
       "    </tr>\n",
       "    <tr>\n",
       "      <th>United States</th>\n",
       "      <td>NaN</td>\n",
       "    </tr>\n",
       "    <tr>\n",
       "      <th>New Zealand</th>\n",
       "      <td>NaN</td>\n",
       "    </tr>\n",
       "    <tr>\n",
       "      <th>Spain</th>\n",
       "      <td>NaN</td>\n",
       "    </tr>\n",
       "    <tr>\n",
       "      <th>Australia</th>\n",
       "      <td>NaN</td>\n",
       "    </tr>\n",
       "    <tr>\n",
       "      <th>Iceland</th>\n",
       "      <td>NaN</td>\n",
       "    </tr>\n",
       "    <tr>\n",
       "      <th>Luxembourg</th>\n",
       "      <td>NaN</td>\n",
       "    </tr>\n",
       "    <tr>\n",
       "      <th>Turkey</th>\n",
       "      <td>NaN</td>\n",
       "    </tr>\n",
       "    <tr>\n",
       "      <th>Ireland</th>\n",
       "      <td>NaN</td>\n",
       "    </tr>\n",
       "  </tbody>\n",
       "</table>\n",
       "</div>"
      ],
      "text/plain": [
       "                Net.Mig\n",
       "Paises                 \n",
       "Hungary             NaN\n",
       "Poland              NaN\n",
       "Czech Republic      NaN\n",
       "Germany             NaN\n",
       "Slovak Republic     NaN\n",
       "Japan               NaN\n",
       "Finland             NaN\n",
       "Sweden              NaN\n",
       "Denmark             NaN\n",
       "Austria             NaN\n",
       "United Kingdom      NaN\n",
       "Greece              NaN\n",
       "Italy               NaN\n",
       "Belgium             NaN\n",
       "Portugal            NaN\n",
       "France              NaN\n",
       "Switzerland         NaN\n",
       "Norway              NaN\n",
       "Netherlands         NaN\n",
       "Canada              NaN\n",
       "United States       NaN\n",
       "New Zealand         NaN\n",
       "Spain               NaN\n",
       "Australia           NaN\n",
       "Iceland             NaN\n",
       "Luxembourg          NaN\n",
       "Turkey              NaN\n",
       "Ireland             NaN"
      ]
     },
     "execution_count": 54,
     "metadata": {},
     "output_type": "execute_result"
    }
   ],
   "source": [
    "import pandas as pd\n",
    "df1 = pd.read_csv(r\"C:\\Users\\jmcas\\OneDrive\\Proyecto Xamarin\\Python\\paises.txt\", sep=\"\\n\", names=['Paises'])\n",
    "df2 = pd.read_csv(r\"C:\\Users\\jmcas\\OneDrive\\Proyecto Xamarin\\Python\\datos_mig.txt\", sep=\"\\n\", names=['Net.Mig'])\n",
    "\n",
    "pd.DataFrame(data=df2, index=df1.loc[:,'Paises'])"
   ]
  },
  {
   "cell_type": "markdown",
   "metadata": {},
   "source": [
    "__Notas de ayuda:__\n",
    "* Utiliza la función __open__ y __readlines__ para leer ambos ficheros.\n",
    "* La función strip elimina retornos de carro.\n",
    "* La función __replace__ de la clase __str__ permite sustituir un símbolo por otro.\n",
    "* La función __zip__ permite construir tuplas a partir de dos listas.\n",
    "* La función __upper__ convierte a mayúsculas un string.\n"
   ]
  },
  {
   "cell_type": "code",
   "execution_count": 3,
   "metadata": {
    "collapsed": true
   },
   "outputs": [],
   "source": [
    "# Sol:\n",
    "import numpy as np\n",
    "import pandas as pd"
   ]
  },
  {
   "cell_type": "markdown",
   "metadata": {},
   "source": [
    "## PR2"
   ]
  },
  {
   "cell_type": "markdown",
   "metadata": {},
   "source": [
    "Crear una Serie con los datos de los ficheros  [paises.txt](datos/paises.txt) y [datos_mig.txt](datos/datos_mig.txt).\n",
    "- La serie ha de llmarse 'serie_mig'.\n",
    "- El índice de la serie está constituído por los paises. \n",
    "- Los datos de la serie son los datos relativos a la migración neta."
   ]
  },
  {
   "cell_type": "code",
   "execution_count": 4,
   "metadata": {},
   "outputs": [],
   "source": [
    "# Sol:"
   ]
  },
  {
   "cell_type": "markdown",
   "metadata": {},
   "source": [
    "## PR3"
   ]
  },
  {
   "cell_type": "markdown",
   "metadata": {},
   "source": [
    "1. Comprueba si existen índices repetidos en el DataFrame 'mig_2'.\n",
    "2. Recupera los datos del pais 'Germany'.\n",
    "3. Recupera solo el dato de migración neta del pais 'Germany'.\n",
    "4. Recupera solo las 3 primeras filas del dataFrame.\n",
    "5. Recupera solo las 3 primeras filas del dataFrame y solo la última columna."
   ]
  },
  {
   "cell_type": "code",
   "execution_count": 5,
   "metadata": {},
   "outputs": [],
   "source": [
    "# Sol:"
   ]
  },
  {
   "cell_type": "markdown",
   "metadata": {},
   "source": [
    "## PR4"
   ]
  },
  {
   "cell_type": "markdown",
   "metadata": {},
   "source": [
    "1. Nos va a interesar tener información de la media del valor de migración Neta en los paises de la UE. Calcúlala en la variable 'media'.\n",
    "2. ¿De qué tipo es la variable media?\n",
    "3. Añade una nueva columna al DataFrame 'mig_2' llamada 'Desviacion'. El valor de la columna es la diferencia enter la media calcuada anteriormente y la migración neta. "
   ]
  },
  {
   "cell_type": "code",
   "execution_count": 6,
   "metadata": {},
   "outputs": [],
   "source": [
    "# Sol:\n"
   ]
  },
  {
   "cell_type": "markdown",
   "metadata": {},
   "source": [
    "## PR5"
   ]
  },
  {
   "cell_type": "markdown",
   "metadata": {},
   "source": [
    "Borrar la columna 'Id' del DataFrame 'mig_2'. Cuidado: la función __drop__ no modifica el DataFrame original."
   ]
  },
  {
   "cell_type": "code",
   "execution_count": 7,
   "metadata": {},
   "outputs": [],
   "source": [
    "# Sol:"
   ]
  },
  {
   "cell_type": "markdown",
   "metadata": {},
   "source": [
    "## PR6"
   ]
  },
  {
   "cell_type": "markdown",
   "metadata": {},
   "source": [
    "1. Añadir los siguientes datos al DataFrame 'mig_2':\n",
    "    - Paises: Lithuania, Albania, Estonia\n",
    "    - Datos de migración neta para cada uno de los paises anteriores: 3.2, 2.8 y 1.7"
   ]
  },
  {
   "cell_type": "code",
   "execution_count": 8,
   "metadata": {},
   "outputs": [],
   "source": [
    "# Sol:"
   ]
  },
  {
   "cell_type": "markdown",
   "metadata": {},
   "source": [
    "## PR7"
   ]
  },
  {
   "cell_type": "markdown",
   "metadata": {},
   "source": [
    "1. Crear un nuevo DataFrame con los datos de incremento de población de los paises de la UE en la década. Los datos se encuentran en el fichero [datos_poblacion.txt](datos/datos_poblacion.txt). \n",
    "    - El nuevo DataFrame se llamará 'euro_global'.\n",
    "    - Los paises se encuentran en el fichero [paises.txt](datos/paises.txt). \n",
    "    - El nuevo DataFrame debe tener dos columnas:'Pais' y '% Poblacion'.\n",
    "    \n",
    "2. Crea un nuevo DataFrame a partir del DataFrame 'mig_1' y 'euro_global' de forma que obtengamos un listado de paises con su información de migración neta e incremento de población."
   ]
  },
  {
   "cell_type": "code",
   "execution_count": 9,
   "metadata": {},
   "outputs": [],
   "source": [
    "# Sol:"
   ]
  },
  {
   "cell_type": "markdown",
   "metadata": {},
   "source": [
    "## PR8"
   ]
  },
  {
   "cell_type": "markdown",
   "metadata": {},
   "source": [
    "Con los datos de los DataFrame 'mig_2' y 'euro_poblacion', crea un nuevo        DataFrame llamado euro_completo con las siguientes características:\n",
    "    - Los índices son enteros\n",
    "    - Las columnas son las columnas de 'mig_2' y la columna '% Poblacion'\n",
    "\n"
   ]
  },
  {
   "cell_type": "code",
   "execution_count": 10,
   "metadata": {},
   "outputs": [],
   "source": [
    "# Sol:"
   ]
  }
 ],
 "metadata": {
  "kernelspec": {
   "display_name": "Python 3",
   "language": "python",
   "name": "python3"
  },
  "language_info": {
   "codemirror_mode": {
    "name": "ipython",
    "version": 3
   },
   "file_extension": ".py",
   "mimetype": "text/x-python",
   "name": "python",
   "nbconvert_exporter": "python",
   "pygments_lexer": "ipython3",
   "version": "3.7.1"
  }
 },
 "nbformat": 4,
 "nbformat_minor": 1
}
